{
 "cells": [
  {
   "cell_type": "markdown",
   "metadata": {},
   "source": [
    "# Learning rate experiments for ADANNs\n",
    "Adjusted from ADANN_semilinear_heat.ipynb"
   ]
  },
  {
   "cell_type": "markdown",
   "metadata": {},
   "source": [
    "##### TODOs:"
   ]
  },
  {
   "cell_type": "markdown",
   "metadata": {},
   "source": [
    "# Setup\n",
    "\n",
    "We consider the semilinear heat PDE d dimensions:\n",
    "$$\n",
    "    \\partial_t u (t, x)\n",
    "=\n",
    "    \\nu (\\Delta_{x} u)(t, x) + f(u(t, x)),\n",
    "$$\n",
    "for $(t, x) \\in [0,T] \\times [0, S]^d$ with periodic boundary conditions.\n",
    "\n",
    "We want to approximate the map\n",
    "$$\n",
    "\\Phi(u(0, \\cdot)) = u(T, \\cdot).\n",
    "$$\n",
    "\n",
    "Problem parameters:  $T, S, \\nu \\in (0,\\infty)$, $f \\colon \\mathbb{R} \\to \\mathbb{R}$, and distribution of initial value."
   ]
  },
  {
   "cell_type": "code",
   "execution_count": null,
   "metadata": {},
   "outputs": [],
   "source": [
    "import numpy as np\n",
    "import matplotlib.pyplot as plt\n",
    "import sys\n",
    "import os\n",
    "import shutil\n",
    "import importlib\n",
    "import time \n",
    "import torch.nn\n",
    "import seaborn as sns\n",
    "\n",
    "sns.set_style(\"white\")\n",
    "\n",
    "sys.path.insert(1, '../1_Modules')\n",
    "\n",
    "# Importing the modules\n",
    "import random_function_generators\n",
    "import ode_methods\n",
    "import training\n",
    "import training_samples_generators\n",
    "import operator_learning_models\n",
    "import utils\n",
    "import semilinear_heat_multi_d_classical_methods\n",
    "import evaluation_utils\n",
    "import documentation_utils\n",
    "import PDE_operations\n",
    "\n",
    "sys.path.insert(1, '1_ADANN_Modules')\n",
    "\n",
    "import ADANNs\n",
    "import ADANNs_training\n",
    "import ADANNs_grid\n",
    "import ADANNs_opt\n",
    "import ADANNs_lr_experiments"
   ]
  },
  {
   "cell_type": "code",
   "execution_count": null,
   "metadata": {},
   "outputs": [],
   "source": [
    "# Reloading the modules\n",
    "importlib.reload(random_function_generators)\n",
    "importlib.reload(ode_methods)\n",
    "importlib.reload(utils)\n",
    "importlib.reload(training)\n",
    "importlib.reload(training_samples_generators)\n",
    "importlib.reload(operator_learning_models)\n",
    "importlib.reload(semilinear_heat_multi_d_classical_methods)\n",
    "importlib.reload(evaluation_utils)\n",
    "importlib.reload(documentation_utils)\n",
    "importlib.reload(PDE_operations)\n",
    "importlib.reload(ADANNs)\n",
    "importlib.reload(ADANNs_training)\n",
    "importlib.reload(ADANNs_grid)\n",
    "importlib.reload(ADANNs_opt)\n",
    "importlib.reload(ADANNs_lr_experiments)\n",
    "\n",
    "\n",
    "from random_function_generators import *\n",
    "from ode_methods import *\n",
    "from training import *\n",
    "from training_samples_generators import *\n",
    "from operator_learning_models import *\n",
    "from utils import *\n",
    "from semilinear_heat_multi_d_classical_methods import *\n",
    "from evaluation_utils import *\n",
    "from documentation_utils import *\n",
    "from PDE_operations import *\n",
    "from ADANNs import *\n",
    "from ADANNs_training import *\n",
    "from ADANNs_grid import *\n",
    "from ADANNs_opt import *\n",
    "from ADANNs_lr_experiments import *"
   ]
  },
  {
   "cell_type": "markdown",
   "metadata": {},
   "source": [
    "### Setup"
   ]
  },
  {
   "cell_type": "code",
   "execution_count": null,
   "metadata": {
    "tags": [
     "parameters"
    ]
   },
   "outputs": [],
   "source": [
    "test_run = False\n",
    "\n",
    "# Problem setup for periodic semilinear PDE\n",
    "###################################################\n",
    "T = 2.\n",
    "space_size = 1.\n",
    "laplace_factor = 0.01\n",
    "dim = 1\n",
    "nonlin = lambda x : torch.sin(np.pi * x)\n",
    "nonlin_name = \"Sine\"\n",
    "\n",
    "# initial value\n",
    "var = 10**5\n",
    "decay_rate = 2\n",
    "offset = np.power(var, 1/decay_rate)\n",
    "inner_decay = 1.\n",
    "initial_value_generator = RandnFourierSeriesGenerator([var, decay_rate, offset, inner_decay, space_size, dim])"
   ]
  },
  {
   "cell_type": "code",
   "execution_count": null,
   "metadata": {},
   "outputs": [],
   "source": [
    "#Discretization operations\n",
    "x_values = x_values_periodic\n",
    "reduce_dimension = lambda values, space_resolution_step: reduce_dimension_periodic(values, space_resolution_step, dim=dim)\n",
    "get_higher_nr_spacediscr = get_higher_nr_spacediscr_periodic\n",
    "create_boundary_values = create_boundary_values_periodic"
   ]
  },
  {
   "cell_type": "code",
   "execution_count": null,
   "metadata": {},
   "outputs": [],
   "source": [
    "# Name of the problem\n",
    "pde_name = f\"Semilinear_heat_{dim}-dimensional_T_{T}_space_size_{space_size}_laplace_factor_{laplace_factor}_nonlin_{nonlin_name}_var_{var}_decay_rate_{decay_rate}_offset_{offset}_inner_decay_{inner_decay}\"\n",
    "\n",
    "#Create folder for all outputs\n",
    "output_folder_dir = create_output_folder(pde_name)\n",
    "# output_folder_dir = f\"Z Outputs/Learning rate experiment (server) - ZZ 2024-02-28 05h33m49s Semilinear_heat_1-dimensional_T_2.0_space_size_1.0_laplace_factor_0.01_nonlin_Sine_var_10000_decay_rate_2_offset_100.0_inner_decay_1.0/\""
   ]
  },
  {
   "cell_type": "code",
   "execution_count": null,
   "metadata": {},
   "outputs": [],
   "source": [
    "generate_data = True \n",
    "\n",
    "#Method for reference solutions for training of models\n",
    "reference_algorithm = lambda initial_values, nr_timesteps: periodic_semilinear_pde_spectral_lirk(initial_values, T, laplace_factor, nonlin, space_size, nr_timesteps, dim=dim)\n",
    "\n",
    "# Train set parameters\n",
    "train_space_resolution_step = 2 if test_run else (4 if dim==1 else 2)\n",
    "train_nr_timesteps = 10 if test_run else 1000\n",
    "nr_train_samples = 2**7 if test_run else (2**18 if dim==1 else 2**16)\n",
    "nr_validation_samples = 2**7 if test_run else (2**14 if dim==1 else 2**11)\n",
    "\n",
    "test_space_resolution_step = 2 if test_run else (8 if dim==1 else 4)\n",
    "test_nr_timesteps = 20 if test_run else 1500\n",
    "nr_test_samples = 2**7 if test_run else (2**14 if dim==1 else 2**11)\n",
    "\n",
    "\n",
    "only_save_rough = True\n",
    "\n",
    "# Set the device\n",
    "device = torch.device('cuda' if torch.cuda.is_available() else 'cpu')\n",
    "\n",
    "parameters = {\n",
    "    'T': T,\n",
    "    'space_size': space_size,\n",
    "    'laplace_factor': laplace_factor,\n",
    "    'var': var,\n",
    "    'dim': dim,\n",
    "    'decay_rate': decay_rate,\n",
    "    'offset': offset,\n",
    "    'inner_decay': inner_decay,\n",
    "    # 'nr_spacediscr': nr_spacediscr,\n",
    "    'train_space_resolution_step': train_space_resolution_step,\n",
    "    'train_nr_timesteps': train_nr_timesteps,\n",
    "    'nr_train_samples': nr_train_samples,\n",
    "    'nr_validation_samples': nr_validation_samples,\n",
    "    'test_space_resolution_step': test_space_resolution_step,\n",
    "    'nr_test_samples': nr_test_samples,\n",
    "    'test_nr_timesteps': test_nr_timesteps,\n",
    "    'reference_algorithm': reference_algorithm.__name__,\n",
    "    'only_save_rough': only_save_rough\n",
    "}\n",
    "\n",
    "# save parametesr\n",
    "with open(output_folder_dir + 'train_test_parameters.json', 'w') as fp:\n",
    "    json.dump(parameters, fp)\n",
    "    \n",
    "# Optimizer\n",
    "optimizer_class = torch.optim.Adam\n",
    "# Loss function\n",
    "loss_fn = torch.nn.MSELoss()"
   ]
  },
  {
   "cell_type": "code",
   "execution_count": null,
   "metadata": {},
   "outputs": [],
   "source": [
    "# ADANNs Settings\n",
    "ADANN_base_model_class = SecondOrderLirkFDMPeriodicSemilinearPDEAdannBasemodel\n",
    "base_model_kwargs = {\n",
    "    \"T\": T, \n",
    "    \"laplace_factor\": laplace_factor, \n",
    "    \"nonlin\": nonlin, \n",
    "    \"space_size\": space_size, \n",
    "    # \"nr_spacediscr\": nr_spacediscr, \n",
    "    \"nonlin_name\": nonlin_name, \n",
    "    \"dim\": dim\n",
    "}\n",
    "\n",
    "diff_model_class = ANNModel \n",
    "diff_model_params = [[1, 1, 1]]"
   ]
  },
  {
   "cell_type": "markdown",
   "metadata": {},
   "source": [
    "#### Learning rate experiments"
   ]
  },
  {
   "cell_type": "code",
   "execution_count": null,
   "metadata": {},
   "outputs": [],
   "source": [
    "# Setup\n",
    "list_nr_timesteps = [2, 4, 8] if test_run else [2, 4, 8, 16, 32, 64]\n",
    "list_nr_spacediscr = [4, 8, 16] if test_run else [4, 8, 16, 32, 64]\n",
    "\n",
    "train_batchsize = 2**7 if test_run else (2**8 if dim==1 else 2**7)\n",
    "nr_trainsteps =  1 if test_run else 50\n",
    "nr_tests_per_lr = 2 if test_run else 5\n",
    "\n",
    "smallest_power = -20\n",
    "largest_power = 5.\n",
    "maxiter = 1 if test_run else 15\n",
    "base_lr_search_parameters = [nr_trainsteps, smallest_power, largest_power, maxiter]"
   ]
  },
  {
   "cell_type": "code",
   "execution_count": null,
   "metadata": {},
   "outputs": [],
   "source": [
    "best_learning_rates = adanns_learning_rate(\n",
    "    ADANN_base_model_class=ADANN_base_model_class,\n",
    "    base_model_kwargs=base_model_kwargs,\n",
    "    diff_model_class=diff_model_class,\n",
    "    diff_model_params=diff_model_params,\n",
    "    list_nr_timesteps=list_nr_timesteps,\n",
    "    list_nr_spacediscr=list_nr_spacediscr,\n",
    "    train_space_resolution_step=train_space_resolution_step,\n",
    "    test_space_resolution_step=test_space_resolution_step,\n",
    "    get_higher_nr_spacediscr=get_higher_nr_spacediscr,\n",
    "    initial_value_generator=initial_value_generator,\n",
    "    reference_algorithm=reference_algorithm,\n",
    "    nr_train_samples=nr_train_samples,\n",
    "    nr_validation_samples=nr_validation_samples,\n",
    "    train_nr_timesteps=train_nr_timesteps,\n",
    "    test_nr_timesteps=test_nr_timesteps,\n",
    "    reduce_dimension=reduce_dimension,\n",
    "    train_batchsize=train_batchsize,\n",
    "    nr_tests_per_lr=nr_tests_per_lr,\n",
    "    optimizer_class=optimizer_class,\n",
    "    loss_fn=loss_fn,\n",
    "    base_lr_search_parameters=base_lr_search_parameters,\n",
    "    output_folder_dir=output_folder_dir,\n",
    ")\n",
    "print(best_learning_rates)"
   ]
  },
  {
   "cell_type": "code",
   "execution_count": null,
   "metadata": {},
   "outputs": [],
   "source": [
    "plot_best_lr(output_folder_dir, shade=\"minmax\")\n",
    "# plot_best_lr(output_folder_dir,shade=\"stddev\")"
   ]
  },
  {
   "cell_type": "code",
   "execution_count": null,
   "metadata": {},
   "outputs": [],
   "source": []
  }
 ],
 "metadata": {
  "kernelspec": {
   "display_name": "Python 3 (ipykernel)",
   "language": "python",
   "name": "python3"
  },
  "language_info": {
   "codemirror_mode": {
    "name": "ipython",
    "version": 3
   },
   "file_extension": ".py",
   "mimetype": "text/x-python",
   "name": "python",
   "nbconvert_exporter": "python",
   "pygments_lexer": "ipython3",
   "version": "3.10.13"
  },
  "varInspector": {
   "cols": {
    "lenName": 16,
    "lenType": 16,
    "lenVar": 40
   },
   "kernels_config": {
    "python": {
     "delete_cmd_postfix": "",
     "delete_cmd_prefix": "del ",
     "library": "var_list.py",
     "varRefreshCmd": "print(var_dic_list())"
    },
    "r": {
     "delete_cmd_postfix": ") ",
     "delete_cmd_prefix": "rm(",
     "library": "var_list.r",
     "varRefreshCmd": "cat(var_dic_list()) "
    }
   },
   "types_to_exclude": [
    "module",
    "function",
    "builtin_function_or_method",
    "instance",
    "_Feature"
   ],
   "window_display": false
  }
 },
 "nbformat": 4,
 "nbformat_minor": 4
}
